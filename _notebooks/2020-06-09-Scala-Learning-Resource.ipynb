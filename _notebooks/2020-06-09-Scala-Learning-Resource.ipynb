{
 "cells": [
  {
   "cell_type": "markdown",
   "metadata": {},
   "source": [
    "# Scala Learning Resource \n",
    "> List of material for Scala learning \n"
   ]
  },
  {
   "cell_type": "markdown",
   "metadata": {},
   "source": [
    "> youtube: 3jg1AheF4n0"
   ]
  },
  {
   "cell_type": "markdown",
   "metadata": {},
   "source": [
    "## 1)  [Coursera Scala specializations](https://www.coursera.org/specializations/scala?fbclid=IwAR1gnEYd2wFF4v3LPMusnhB1GIxR0xgnxHyjdqF3iyIQmrRHPBoKGrl_VfA)\n",
    "\n",
    "- Functional Programming Principles in Scala\n",
    "- Functional Program Design in Scala\n",
    "- Parallel programming\n",
    "- Big Data Analysis with Scala and Spark\n",
    "- Functional Programming in Scala Capstone"
   ]
  },
  {
   "cell_type": "markdown",
   "metadata": {},
   "source": [
    "## 2) [Scala Learn Resource](https://www.coursera.org/learn/progfun1/supplement/D9pm0/learning-resources)\n"
   ]
  },
  {
   "cell_type": "markdown",
   "metadata": {},
   "source": [
    "## 3) Reference\n",
    "- [Scala Standard Library API](http://www.scala-lang.org/api/)\n",
    "- [Scala School!: A Scala tutorial by Twitter](http://twitter.github.com/scala_school/)\n",
    "- [A Tour of Scala: Tutorial introducing the main concepts of Scala](http://docs.scala-lang.org/tutorials/tour/tour-of-scala.html)\n",
    "- [Scala Overview on StackOverflow: A list of useful questions sorted by topic](http://stackoverflow.com/tags/scala/info)"
   ]
  },
  {
   "cell_type": "markdown",
   "metadata": {},
   "source": [
    "## 4) Scala books \n",
    "- https://github.com/yennanliu/data_science_repo/tree/master/book/scala\n"
   ]
  }
 ],
 "metadata": {
  "kernelspec": {
   "display_name": "Python 3",
   "language": "python",
   "name": "python3"
  },
  "language_info": {
   "codemirror_mode": {
    "name": "ipython",
    "version": 3
   },
   "file_extension": ".py",
   "mimetype": "text/x-python",
   "name": "python",
   "nbconvert_exporter": "python",
   "pygments_lexer": "ipython3",
   "version": "3.6.3"
  }
 },
 "nbformat": 4,
 "nbformat_minor": 2
}
