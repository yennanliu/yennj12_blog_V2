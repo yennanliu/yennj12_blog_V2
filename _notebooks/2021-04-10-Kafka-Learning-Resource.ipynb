{
 "cells": [
  {
   "cell_type": "markdown",
   "metadata": {},
   "source": [
    "# 2021-04-10-Kafka-Learning-Resource\n",
    "> Some comment"
   ]
  },
  {
   "cell_type": "markdown",
   "metadata": {},
   "source": [
    "> youtube: PzPXRmVHMxI"
   ]
  },
  {
   "cell_type": "markdown",
   "metadata": {},
   "source": [
    "## 1)  Kafka Intro\n",
    "- [official doc](https://kafka.apache.org/)\n",
    "- [offocal training](https://training.confluent.io/schedule?_ga=2.93802072.490477557.1619616682-1023127246.1617250979&_gac=1.255348474.1619617066.CjwKCAjwj6SEBhAOEiwAvFRuKOzBgP4H6u7W0qhEcSK_akcezuaLiewSFKZhB5wEKdfyiAvagujIwxoCgWkQAvD_BwE)\n",
    "- [tutorial video in zh](https://www.youtube.com/watch?v=HLSQDk2asjY&list=PLmOn9nNkQxJEDjzl0iBYZ3WuXUuUStxZl)\n",
    "\n"
   ]
  },
  {
   "cell_type": "markdown",
   "metadata": {},
   "source": [
    "> youtube: 06iRM1Ghr1k"
   ]
  },
  {
   "cell_type": "markdown",
   "metadata": {},
   "source": [
    "## 2)  Kafka Connect\n",
    "- https://www.confluent.io/blog/kafka-connect-deep-dive-error-handling-dead-letter-queues/\n",
    "- https://www.confluent.io/blog/kafka-connect-deep-dive-converters-serialization-explained/\n",
    "- https://talks.rmoff.net/DQkDj3#sw2vXks\n",
    "- https://www.instaclustr.com/apache-kafka-connect-architecture-overview/"
   ]
  },
  {
   "cell_type": "markdown",
   "metadata": {},
   "source": [
    "> youtube: J6adhl3wEj4"
   ]
  },
  {
   "cell_type": "markdown",
   "metadata": {},
   "source": [
    "## 2)  Kafka Connect\n",
    "- [offical lab/code example](https://kafka-tutorials.confluent.io/)"
   ]
  }
 ],
 "metadata": {
  "kernelspec": {
   "display_name": "Python 3",
   "language": "python",
   "name": "python3"
  },
  "language_info": {
   "codemirror_mode": {
    "name": "ipython",
    "version": 3
   },
   "file_extension": ".py",
   "mimetype": "text/x-python",
   "name": "python",
   "nbconvert_exporter": "python",
   "pygments_lexer": "ipython3",
   "version": "3.7.9"
  }
 },
 "nbformat": 4,
 "nbformat_minor": 2
}
