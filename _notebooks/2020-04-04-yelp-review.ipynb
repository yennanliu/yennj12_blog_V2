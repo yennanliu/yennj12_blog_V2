{
 "cells": [
  {
   "cell_type": "markdown",
   "metadata": {},
   "source": [
    "# Yelp Review Data Project\n",
    "> analysis on Yelp dataset \n",
    "\n",
    "- toc: true \n",
    "- badges: true\n",
    "- comments: true\n",
    "- sticky_rank: 1\n",
    "- author: Yen\n",
    "- categories: [fastpages, jupyter]"
   ]
  },
  {
   "cell_type": "markdown",
   "metadata": {},
   "source": [
    "- Repo : [YelpReviews](https://github.com/yennanliu/YelpReviews)\n",
    "- Presentation : [Presentation](https://github.com/yennanliu/YelpReviews/blob/master/doc/YelpReview_DS_demo.pdf)\n",
    "- Visualization : [redash_dashboard](https://app.redash.io/yen_dev/public/dashboards/xpfG9wKgb9qEcMHlGiSpjhFn8dCZuun8XbCN52GN)\n",
    "- Dataset : [yelp-dataset](https://www.kaggle.com/yelp-dataset/yelp-dataset)\n",
    "    "
   ]
  },
  {
   "cell_type": "markdown",
   "metadata": {},
   "source": [
    "> youtube: https://youtu.be/q2TE0oR6KNI"
   ]
  },
  {
   "cell_type": "markdown",
   "metadata": {},
   "source": [
    "## Intro \n",
    "- Build a POC end-to-end BI app that mining the interest from Kaggle yelp dataset. \n",
    "- This dataset is a subset of Yelp's businesses, reviews, and user data. It was originally put together for the Yelp Dataset Challenge which is a chance for students to conduct research or analysis on Yelp's data and share their discoveries. In the dataset you'll find information about businesses across 11 metropolitan areas in four countries.\n",
    "\n",
    "## Process \n",
    "- Step1  : data collect \n",
    "- Step 2 : data process \n",
    "- Step 3 : db modeling \n",
    "- Step 4 : data storage \n",
    "- Step 5 :  ETL \n",
    "- Step 6 : data analysis / ML \n",
    "- Step 7 : data visualization\n",
    "\n",
    "## Project focus\n",
    "- database modeling / schema design (per business understanding, use cases) \n",
    "- data process \n",
    "- analysis (think about how to leverage the data if as a Yelp PM) \n",
    "- framework design logic (why this database, why this schema, why this BI tool..)\n",
    "\n",
    "## Demo\n",
    "- [redash_dashboard](https://app.redash.io/yen_dev/public/dashboards/xpfG9wKgb9qEcMHlGiSpjhFn8dCZuun8XbCN52GN)\n",
    "- [Presentation](https://github.com/yennanliu/YelpReviews/blob/master/doc/YelpReview_DS_demo.pdf)\n"
   ]
  }
 ],
 "metadata": {
  "kernelspec": {
   "display_name": "Python 3",
   "language": "python",
   "name": "python3"
  },
  "language_info": {
   "codemirror_mode": {
    "name": "ipython",
    "version": 3
   },
   "file_extension": ".py",
   "mimetype": "text/x-python",
   "name": "python",
   "nbconvert_exporter": "python",
   "pygments_lexer": "ipython3",
   "version": "3.6.3"
  }
 },
 "nbformat": 4,
 "nbformat_minor": 2
}
